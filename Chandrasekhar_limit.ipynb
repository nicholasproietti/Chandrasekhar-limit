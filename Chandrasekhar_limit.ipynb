{
 "cells": [
  {
   "cell_type": "code",
   "execution_count": 1,
   "id": "7ce1a04b",
   "metadata": {},
   "outputs": [],
   "source": [
    "# Course: ASTR 451\n",
    "# Assignment: HW #7, Problem 5c\n",
    "# Author: Nicholas Proietti\n",
    "\n",
    "import numpy as np\n",
    "import matplotlib.pyplot as plt\n",
    "\n",
    "def f_prime(x):\n",
    "    my_sqrt = np.sqrt(1 + pow(x,2))\n",
    "    outcome = (6*pow(x,2) - 3)*my_sqrt + pow(x, 2)*(2*pow(x, 2) - 3)/my_sqrt \\\n",
    "    + 3/(x + my_sqrt)*(1 + x/my_sqrt)\n",
    "    return outcome\n",
    "\n",
    "def dM_dxi(x, xi):\n",
    "    return 4*np.pi*pow(xi, 2)*pow(x, 3)\n",
    "\n",
    "def dx_dxi(M, x, xi):\n",
    "    return -1*M*pow(x, 3)/f_prime(x)/pow(xi, 2)\n",
    "\n"
   ]
  },
  {
   "cell_type": "code",
   "execution_count": 2,
   "id": "31bdac17",
   "metadata": {},
   "outputs": [],
   "source": [
    "init_xi = 1e-4\n",
    "step_xi = 1e-3\n",
    "refin_factor = 0.75 # refinement factor \n",
    "refin_limit = 1e-2\n",
    "max_frac_var = 2e-2 # maximum fractional change\n",
    "M_star_limit = 1e-4 # will be used to find mass of star\n",
    "x_guesses = np.logspace(-2, 1.5) # for Runge-Kutta\n",
    "xi_outcomes = []\n",
    "M_outcomes = []"
   ]
  },
  {
   "cell_type": "code",
   "execution_count": 3,
   "id": "1fe31c56",
   "metadata": {},
   "outputs": [],
   "source": [
    "M_sun = 1.9891e33 # [g]\n",
    "R_sun = 6.9598e10 # [cm]\n",
    "M_h = 1.6736e-24 # [g]\n",
    "M_e = 9.1094e-28 # [g]\n",
    "Mu_e = 2\n",
    "H = 6.6261e-27 # [erg s]\n",
    "C = 2.9979e10 # [cm s^-1]\n",
    "P_o = 6.003e22 # [dyn cm^-2]\n",
    "G = 6.6726e-8 # [dyn cm^2 g^-2]\n",
    "rho_o = (8.0*np.pi/3.0)*pow((M_e*C/H),3)*(Mu_e*M_h) # [g cm^-3]\n",
    "R_o = np.sqrt(P_o/rho_o)/np.sqrt(G*rho_o) # [cm]"
   ]
  },
  {
   "cell_type": "code",
   "execution_count": 4,
   "id": "a025e62a",
   "metadata": {},
   "outputs": [
    {
     "name": "stderr",
     "output_type": "stream",
     "text": [
      "<ipython-input-1-f722fc626d21>:18: RuntimeWarning: divide by zero encountered in double_scalars\n",
      "  return -1*M*pow(x, 3)/f_prime(x)/pow(xi, 2)\n"
     ]
    }
   ],
   "source": [
    "for x_guess in x_guesses:\n",
    "    current_xi = init_xi # start very close to, but not at 0\n",
    "    x_current = x_guess\n",
    "    M_current = 0\n",
    "    \n",
    "    while x_current > M_star_limit:\n",
    "        step_current_xi = step_xi\n",
    "        \n",
    "        # 2nd order Runge Kutta\n",
    "        test_dx = step_current_xi*dx_dxi(M_current, x_current, current_xi)\n",
    "        dx = step_current_xi*dx_dxi(M_current, x_current + 0.5*test_dx, current_xi + 0.5*step_current_xi)\n",
    "        dM = step_current_xi*dM_dxi(x_current, current_xi + 0.5*step_current_xi)\n",
    "        \n",
    "        # if our mass varies too quickly, attenuate the step size\n",
    "        while (M_current > refin_limit and abs(dM/M_current) > max_frac_var):\n",
    "            step_current_xi = step_current_xi * refin_factor\n",
    "            \n",
    "            test_dx = step_current_xi*dx_dxi(M_current, x_current, current_xi)\n",
    "            dx = step_current_xi*dx_dxi(M_current, x_current + 0.5*test_dx, current_xi + 0.5*step_current_xi)\n",
    "            dM = step_current_xi*dM_dxi(x_current, current_xi + 0.5*step_current_xi)\n",
    "        \n",
    "        M_current += dM\n",
    "        x_current += dx\n",
    "        current_xi += step_current_xi\n",
    "        \n",
    "    M_outcomes.append(M_current)\n",
    "    xi_outcomes.append(current_xi)\n",
    "    "
   ]
  },
  {
   "cell_type": "code",
   "execution_count": 5,
   "id": "6e4c11dc",
   "metadata": {},
   "outputs": [],
   "source": [
    "# Now, turn the outcomes into physical outcomes\n",
    "M_phys = rho_o * pow(R_o,3)*np.array(M_outcomes)\n",
    "M_phys /= M_sun\n",
    "\n",
    "R_phys = R_o * np.array(xi_outcomes)\n",
    "R_phys /= R_sun"
   ]
  },
  {
   "cell_type": "code",
   "execution_count": 6,
   "id": "6e02a020",
   "metadata": {},
   "outputs": [
    {
     "data": {
      "image/png": "[encoded data removed]",
      "text/plain": [
       "<Figure size 720x504 with 1 Axes>"
      ]
     },
     "metadata": {
      "needs_background": "light"
     },
     "output_type": "display_data"
    }
   ],
   "source": [
    "final_index = np.where(M_phys > 1.44)[0][0]\n",
    "\n",
    "plt.rcParams[\"figure.figsize\"] = [10, 7]\n",
    "plt.plot(M_phys[:final_index+1],R_phys[:final_index+1], color='navy')\n",
    "plt.plot([1.44,1.44],[1e-5,1e1],':', color='red',label=r'$M_\\ast=1.44M_\\odot$')\n",
    "plt.xscale('log')\n",
    "plt.yscale('log')\n",
    "plt.xlim([1e-3,1e1])\n",
    "plt.ylim([1e-4,1e0])\n",
    "plt.xlabel(r'$M_\\ast/M_\\odot$', fontsize=15)\n",
    "plt.ylabel(r'$R_\\ast/R_\\odot$', fontsize=15)\n",
    "plt.title('Mass-Radius Relationship for Degenerate Bodies', fontsize=15)\n",
    "plt.legend(fontsize=13)\n",
    "plt.show()"
   ]
  },
  {
   "cell_type": "code",
   "execution_count": null,
   "id": "deaaf54e",
   "metadata": {},
   "outputs": [],
   "source": []
  }
 ],
 "metadata": {
  "kernelspec": {
   "display_name": "Python 3",
   "language": "python",
   "name": "python3"
  },
  "language_info": {
   "codemirror_mode": {
    "name": "ipython",
    "version": 3
   },
   "file_extension": ".py",
   "mimetype": "text/x-python",
   "name": "python",
   "nbconvert_exporter": "python",
   "pygments_lexer": "ipython3",
   "version": "3.8.8"
  }
 },
 "nbformat": 4,
 "nbformat_minor": 5
}
